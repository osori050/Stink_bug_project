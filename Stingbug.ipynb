{
 "cells": [
  {
   "cell_type": "code",
   "execution_count": 1,
   "metadata": {},
   "outputs": [],
   "source": [
    "import requests\n",
    "import os\n",
    "import io\n",
    "import zipfile"
   ]
  },
  {
   "cell_type": "code",
   "execution_count": 2,
   "metadata": {},
   "outputs": [],
   "source": [
    "# Set workspace\n",
    "os.chdir(r'E:\\ArcGIS_2\\Lab4')\n",
    "wksp = os.getcwd()"
   ]
  },
  {
   "cell_type": "markdown",
   "metadata": {},
   "source": [
    "## Minnesota boundary from MGC"
   ]
  },
  {
   "cell_type": "code",
   "execution_count": 3,
   "metadata": {},
   "outputs": [
    {
     "data": {
      "text/html": [
       "<div class='gpresult'><h2>Messages</h2><div id='messages' data-messages='[\"Start Time: Thursday, May 4, 2023 3:58:49 PM\",\"Succeeded at Thursday, May 4, 2023 3:58:50 PM (Elapsed Time: 0.80 seconds)\"]' data-show='true'><div id = 'default' /></div></div>"
      ],
      "text/plain": [
       "<Result 'E:\\\\ArcGIS_2\\\\Lab4\\\\minnesota.shp'>"
      ]
     },
     "execution_count": 3,
     "metadata": {},
     "output_type": "execute_result"
    }
   ],
   "source": [
    "# MN boundary\n",
    "mn_url = \"https://resources.gisdata.mn.gov/pub/gdrs/data/pub/us_mn_state_dot/bdry_state/shp_bdry_state.zip\"\n",
    "boundaries = requests.post(mn_url)\n",
    "zipfile.ZipFile(io.BytesIO(boundaries.content)).extractall(wksp)\n",
    "\n",
    "# Project shp\n",
    "sr = arcpy.SpatialReference(4326)\n",
    "arcpy.Project_management('Boundaries_of_Minnesota.shp', 'minnesota.shp', sr)"
   ]
  },
  {
   "cell_type": "markdown",
   "metadata": {},
   "source": [
    "## Stingbug observations"
   ]
  },
  {
   "cell_type": "code",
   "execution_count": 4,
   "metadata": {},
   "outputs": [],
   "source": [
    "# Retrieve Stinkbugs Data\n",
    "sbug_url = \"https://resources.gisdata.mn.gov/pub/gdrs/data/pub/us_mn_state_mda/biota_bmsb/shp_biota_bmsb.zip\"\n",
    "sbug_data = requests.get(sbug_url, verify=True)\n",
    "zipfile.ZipFile(io.BytesIO(sbug_data.content)).extractall(wksp)\n",
    "sbug = \"BMSBSurveyDataTable.dbf\""
   ]
  },
  {
   "cell_type": "code",
   "execution_count": 5,
   "metadata": {},
   "outputs": [],
   "source": [
    "aprx = arcpy.mp.ArcGISProject(\"CURRENT\")\n",
    "aprxMap = aprx.listMaps(\"Map\")[0]"
   ]
  },
  {
   "cell_type": "code",
   "execution_count": 6,
   "metadata": {},
   "outputs": [],
   "source": [
    "# Import stinkbug data table\n",
    "sbugtable = arcpy.TableToTable_conversion(sbug, wksp, \"sbugtable\")"
   ]
  },
  {
   "cell_type": "code",
   "execution_count": 7,
   "metadata": {},
   "outputs": [],
   "source": [
    "# Create point layer of data table\n",
    "x_field = \"Longitude\"\n",
    "y_field = \"Latitude\"\n",
    "output_fc = \"sbug\"\n",
    "spatial_reference = arcpy.SpatialReference(4326)\n",
    "sbug_points = arcpy.management.XYTableToPoint(sbugtable, \n",
    "                                              output_fc, \n",
    "                                              x_field, \n",
    "                                              y_field, \n",
    "                                              \"\", \n",
    "                                              spatial_reference)"
   ]
  },
  {
   "cell_type": "markdown",
   "metadata": {},
   "source": [
    "#### Verify points are within Minnesota boundary"
   ]
  },
  {
   "cell_type": "code",
   "execution_count": 8,
   "metadata": {},
   "outputs": [],
   "source": [
    "# Select points that fall within the boundary of Minnesota and create new layer\n",
    "selected_points = arcpy.SelectLayerByLocation_management(\"sbug\", \"INTERSECT\", 'minnesota.shp')\n",
    "MN_sbugpoints = arcpy.CopyFeatures_management(selected_points, \"sbug_points.shp\")"
   ]
  },
  {
   "cell_type": "code",
   "execution_count": 9,
   "metadata": {},
   "outputs": [],
   "source": [
    "result = arcpy.GetCount_management(\"sbug_points.shp\")\n",
    "count = int(result.getOutput(0))"
   ]
  },
  {
   "cell_type": "code",
   "execution_count": 10,
   "metadata": {},
   "outputs": [
    {
     "name": "stdout",
     "output_type": "stream",
     "text": [
      "All points are within the boundary of Minnesota.\n"
     ]
    }
   ],
   "source": [
    "# Verify resulting layer only includes points within MN boundary\n",
    "total_points = int(arcpy.GetCount_management(\"sbug_points.shp\").getOutput(0))\n",
    "if count == total_points:\n",
    "    print(\"All points are within the boundary of Minnesota.\")\n",
    "else:\n",
    "    print(\"Some points are outside the boundary of Minnesota.\")"
   ]
  },
  {
   "cell_type": "markdown",
   "metadata": {},
   "source": [
    "#### Verify observation counts are within acceptable range"
   ]
  },
  {
   "cell_type": "code",
   "execution_count": 11,
   "metadata": {},
   "outputs": [
    {
     "name": "stdout",
     "output_type": "stream",
     "text": [
      "0\n"
     ]
    }
   ],
   "source": [
    "# Set acceptable count range\n",
    "acceptable_range = [0, 10000]\n",
    "\n",
    "# Create empty lists to store invalid and valid observations\n",
    "invalid_observations = []\n",
    "valid_observations = []\n",
    "\n",
    "# Look for valid/invalid observations and append them to their respective lists\n",
    "with arcpy.da.SearchCursor(\"sbug_points.shp\", [\"Adults\", \"Nymphs\"]) as cursor:\n",
    "    for row in cursor:\n",
    "        if row[0] >= acceptable_range[0] and row[0] <= acceptable_range[1]:\n",
    "            # Add the valid observation to the list\n",
    "            valid_observations.append(row)\n",
    "            \n",
    "            if row[1] >= acceptable_range[0] and row[1] <= acceptable_range[1]:\n",
    "                # Add the valid observation to the list\n",
    "                valid_observations.append(row)\n",
    "            else:\n",
    "                # Add the invalid observation to the list\n",
    "                invalid_observations.append(row)\n",
    "                \n",
    "        else:\n",
    "            # Add the invalid observation to the list\n",
    "            invalid_observations.append(row)\n",
    "            \n",
    "print(len(invalid_observations))"
   ]
  },
  {
   "cell_type": "markdown",
   "metadata": {},
   "source": [
    "## City boundaries"
   ]
  },
  {
   "cell_type": "code",
   "execution_count": 12,
   "metadata": {},
   "outputs": [],
   "source": [
    "# Retrieve MN cities Data\n",
    "territories_output = requests.post(r'https://resources.gisdata.mn.gov/pub/gdrs/data/pub/us_mn_state_dot/bdry_mn_city_township_unorg/shp_bdry_mn_city_township_unorg.zip')\n",
    "zipfile.ZipFile(io.BytesIO(territories_output.content)).extractall(wksp)"
   ]
  },
  {
   "cell_type": "code",
   "execution_count": 13,
   "metadata": {},
   "outputs": [
    {
     "data": {
      "text/html": [
       "<div class='gpresult'><h2>Messages</h2><div id='messages' data-messages='[\"Start Time: Thursday, May 4, 2023 3:58:59 PM\",\"Succeeded at Thursday, May 4, 2023 3:59:01 PM (Elapsed Time: 2.38 seconds)\"]' data-show='true'><div id = 'default' /></div></div>"
      ],
      "text/plain": [
       "<Result 'E:\\\\ArcGIS_2\\\\Lab4\\\\city_township_unorg_projected.shp'>"
      ]
     },
     "execution_count": 13,
     "metadata": {},
     "output_type": "execute_result"
    }
   ],
   "source": [
    "# Project to WGS 1984\n",
    "sr = arcpy.SpatialReference(4326)\n",
    "arcpy.Project_management('city_township_unorg.shp', 'city_township_unorg_projected.shp', sr)"
   ]
  },
  {
   "cell_type": "code",
   "execution_count": 14,
   "metadata": {},
   "outputs": [
    {
     "data": {
      "text/html": [
       "<div class='gpresult'><h2>Messages</h2><div id='messages' data-messages='[\"Start Time: Thursday, May 4, 2023 3:59:02 PM\",\"Succeeded at Thursday, May 4, 2023 3:59:02 PM (Elapsed Time: 0.56 seconds)\"]' data-show='true'><div id = 'default' /></div></div>"
      ],
      "text/plain": [
       "<Result 'E:\\\\ArcGIS_2\\\\Lab4\\\\cities.shp'>"
      ]
     },
     "execution_count": 14,
     "metadata": {},
     "output_type": "execute_result"
    }
   ],
   "source": [
    "# Extract only the cities\n",
    "arcpy.analysis.Select(\n",
    "    in_features=\"city_township_unorg_projected.shp\",\n",
    "    out_feature_class=\"cities.shp\",\n",
    "    where_clause=\"CTU_CLASS = 'CITY'\"\n",
    ")"
   ]
  },
  {
   "cell_type": "code",
   "execution_count": 15,
   "metadata": {},
   "outputs": [
    {
     "data": {
      "text/html": [
       "<div class='gpresult'><h2>Messages</h2><div id='messages' data-messages='[\"Start Time: Thursday, May 4, 2023 3:59:02 PM\",\"Succeeded at Thursday, May 4, 2023 3:59:03 PM (Elapsed Time: 0.43 seconds)\"]' data-show='true'><div id = 'default' /></div></div>"
      ],
      "text/plain": [
       "<Result 'E:\\\\ArcGIS_2\\\\Lab4\\\\sbug_presence.shp'>"
      ]
     },
     "execution_count": 15,
     "metadata": {},
     "output_type": "execute_result"
    }
   ],
   "source": [
    "# Select only places with stink bug presence\n",
    "arcpy.analysis.Select(\n",
    "    in_features=\"sbug_points.shp\",\n",
    "    out_feature_class=\"sbug_presence.shp\",\n",
    "    where_clause=\"Adults <> 0 Or Nymphs <> 0\"\n",
    ")"
   ]
  },
  {
   "cell_type": "code",
   "execution_count": 16,
   "metadata": {},
   "outputs": [
    {
     "data": {
      "text/html": [
       "<div class='gpresult'><h2>Messages</h2><div id='messages' data-messages='[\"Start Time: Thursday, May 4, 2023 3:59:03 PM\",\"Succeeded at Thursday, May 4, 2023 3:59:03 PM (Elapsed Time: 0.53 seconds)\"]' data-show='true'><div id = 'default' /></div></div>"
      ],
      "text/plain": [
       "<Result 'E:\\\\ArcGIS_2\\\\Lab4\\\\sbug_cities.shp'>"
      ]
     },
     "execution_count": 16,
     "metadata": {},
     "output_type": "execute_result"
    }
   ],
   "source": [
    "# Select the cities with stink bug presence\n",
    "selection = arcpy.SelectLayerByLocation_management('city_township_unorg_projected.shp', \"INTERSECT\", 'sbug_presence.shp', 0, \"NEW_SELECTION\")\n",
    "subselection = arcpy.SelectLayerByAttribute_management(selection, \"SUBSET_SELECTION\", \"CTU_CLASS = 'CITY'\")\n",
    "arcpy.CopyFeatures_management(selection, 'sbug_cities.shp')"
   ]
  }
 ],
 "metadata": {
  "kernelspec": {
   "display_name": "ArcGISPro",
   "language": "Python",
   "name": "python3"
  },
  "language_info": {
   "file_extension": ".py",
   "name": "python",
   "version": "3"
  }
 },
 "nbformat": 4,
 "nbformat_minor": 2
}
