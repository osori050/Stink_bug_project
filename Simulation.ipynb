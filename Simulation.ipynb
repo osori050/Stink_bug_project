{
 "cells": [
  {
   "cell_type": "code",
   "execution_count": 1,
   "metadata": {},
   "outputs": [],
   "source": [
    "import os\n",
    "os.environ['PROJ_LIB'] = r'C:\\Users\\osori050\\AppData\\Local\\ESRI\\conda\\envs\\arcgispro-py3-clone\\Library\\share\\proj'"
   ]
  },
  {
   "cell_type": "code",
   "execution_count": 153,
   "metadata": {},
   "outputs": [],
   "source": [
    "import io\n",
    "import zipfile\n",
    "import requests\n",
    "import geopandas as gpd\n",
    "import pandas as pd\n",
    "from itertools import product\n",
    "import numpy as np\n",
    "import math\n",
    "import shutil\n",
    "from scipy.stats import zscore\n",
    "import fiona\n",
    "from fiona.crs import from_epsg\n",
    "from shapely import geometry\n",
    "import psycopg2"
   ]
  },
  {
   "cell_type": "code",
   "execution_count": 159,
   "metadata": {},
   "outputs": [],
   "source": [
    "# Set workspace\n",
    "os.chdir(r'E:\\ArcGIS_2\\Lab4')\n",
    "wksp = os.getcwd()"
   ]
  },
  {
   "cell_type": "code",
   "execution_count": 4,
   "metadata": {},
   "outputs": [],
   "source": [
    "# Retrieve MN territories Data\n",
    "territories_output = requests.post(r'https://resources.gisdata.mn.gov/pub/gdrs/data/pub/us_mn_state_dot/bdry_mn_city_township_unorg/shp_bdry_mn_city_township_unorg.zip')\n",
    "zipfile.ZipFile(io.BytesIO(territories_output.content)).extractall(wksp)"
   ]
  },
  {
   "cell_type": "code",
   "execution_count": 5,
   "metadata": {},
   "outputs": [
    {
     "data": {
      "text/html": [
       "<div class='gpresult'><h2>Messages</h2><div id='messages' data-messages='[\"Start Time: Sunday, April 30, 2023 10:37:17 AM\",\"Succeeded at Sunday, April 30, 2023 10:37:19 AM (Elapsed Time: 2.21 seconds)\"]' data-show='true'><div id = 'default' /></div></div>"
      ],
      "text/plain": [
       "<Result 'E:\\\\ArcGIS_2\\\\Lab4\\\\cities.shp'>"
      ]
     },
     "execution_count": 5,
     "metadata": {},
     "output_type": "execute_result"
    }
   ],
   "source": [
    "# Extract only the cities\n",
    "arcpy.analysis.Select(\n",
    "    in_features=\"city_township_unorg.shp\",\n",
    "    out_feature_class=\"cities.shp\",\n",
    "    where_clause=\"CTU_CLASS = 'CITY'\"\n",
    ")"
   ]
  },
  {
   "cell_type": "code",
   "execution_count": 6,
   "metadata": {},
   "outputs": [
    {
     "data": {
      "text/html": [
       "<div class='gpresult'><h2>Messages</h2><div id='messages' data-messages='[\"Start Time: Sunday, April 30, 2023 10:37:24 AM\",\"Succeeded at Sunday, April 30, 2023 10:37:25 AM (Elapsed Time: 1.35 seconds)\"]' data-show='true'><div id = 'default' /></div></div>"
      ],
      "text/plain": [
       "<Result 'E:\\\\ArcGIS_2\\\\Lab4\\\\sbug_presence.shp'>"
      ]
     },
     "execution_count": 6,
     "metadata": {},
     "output_type": "execute_result"
    }
   ],
   "source": [
    "# Select only places with stink bug presence\n",
    "arcpy.analysis.Select(\n",
    "    in_features=\"sbug_points.shp\",\n",
    "    out_feature_class=\"sbug_presence.shp\",\n",
    "    where_clause=\"Adults <> 0 Or Nymphs <> 0\"\n",
    ")"
   ]
  },
  {
   "cell_type": "code",
   "execution_count": 7,
   "metadata": {},
   "outputs": [
    {
     "data": {
      "text/html": [
       "<div class='gpresult'><h2>Messages</h2><div id='messages' data-messages='[\"Start Time: Sunday, April 30, 2023 10:37:36 AM\",\"Succeeded at Sunday, April 30, 2023 10:37:37 AM (Elapsed Time: 0.49 seconds)\"]' data-show='true'><div id = 'default' /></div></div>"
      ],
      "text/plain": [
       "<Result 'E:\\\\ArcGIS_2\\\\Lab4\\\\sbug_cities.shp'>"
      ]
     },
     "execution_count": 7,
     "metadata": {},
     "output_type": "execute_result"
    }
   ],
   "source": [
    "# Select the cities with stink bug presence\n",
    "selection = arcpy.SelectLayerByLocation_management('city_township_unorg.shp', \"INTERSECT\", 'sbug_presence.shp', 0, \"NEW_SELECTION\")\n",
    "subselection = arcpy.SelectLayerByAttribute_management(selection, \"SUBSET_SELECTION\", \"CTU_CLASS = 'CITY'\")\n",
    "arcpy.CopyFeatures_management(selection, 'sbug_cities.shp')"
   ]
  },
  {
   "cell_type": "code",
   "execution_count": 18,
   "metadata": {},
   "outputs": [],
   "source": [
    "# Cities with stink bug presence data frame\n",
    "affected_cities = gpd.read_file('sbug_cities.shp')\n",
    "affected_cities.drop(affected_cities.iloc[:, np.r_[0, 2:10]], axis=1, inplace=True) \n",
    "affected_cities['Presence'] = 1"
   ]
  },
  {
   "cell_type": "code",
   "execution_count": 19,
   "metadata": {},
   "outputs": [],
   "source": [
    "# All cities data frame\n",
    "cities_gdf = gpd.read_file('cities.shp')\n",
    "cities_gdf.drop(cities_gdf.iloc[:, np.r_[0, 2:6, 7:9]], axis=1, inplace=True) \n",
    "\n",
    "# Add presence to cities data frame\n",
    "affected_cities['FEATURE_NA'] = affected_cities['FEATURE_NA'].astype(str)\n",
    "cities_gdf = cities_gdf.join(affected_cities.set_index('FEATURE_NA'), on='FEATURE_NA', how='left')\n",
    "cities_gdf['Presence'] = cities_gdf['Presence'].fillna(0)"
   ]
  },
  {
   "cell_type": "code",
   "execution_count": 20,
   "metadata": {},
   "outputs": [],
   "source": [
    "# Calculate z-values for population\n",
    "col = ['POPULATION']\n",
    "z_val = cities_gdf[col].apply(zscore)\n",
    "cities_gdf = cities_gdf.join(z_val, rsuffix=\" (Z)\")\n",
    "\n",
    "# Move the distribution so the starting poing is zero\n",
    "cities_gdf[\"POPULATION (Z)\"] = cities_gdf[\"POPULATION (Z)\"].apply(lambda x: abs(cities_gdf[\"POPULATION (Z)\"].min()) + x)\n",
    "\n",
    "# Only cities with presencce\n",
    "cities_with_presence = cities_gdf[cities_gdf[\"Presence\"] == 1].copy()"
   ]
  },
  {
   "cell_type": "code",
   "execution_count": 75,
   "metadata": {},
   "outputs": [],
   "source": [
    "# Combine each city with the others in MN except with itself\n",
    "combinations = product(cities_with_presence.values, cities_gdf.values)\n",
    "df_combined = pd.DataFrame([*combinations], columns=['From', 'To'])\n",
    "df_combined[['From', 'To']] = df_combined[['From', 'To']].applymap(lambda x: x[0])\n",
    "df_combined = df_combined.loc[df_combined['From'] != df_combined['To']]\n",
    "df_combined.reset_index(drop=True, inplace=True)"
   ]
  },
  {
   "cell_type": "code",
   "execution_count": 76,
   "metadata": {},
   "outputs": [],
   "source": [
    "# Add geometry to 'From' and 'To' cities\n",
    "df_combined = df_combined.merge(cities_gdf, left_on='From', right_on='FEATURE_NA', how='inner')\n",
    "df_combined = df_combined.merge(cities_gdf, left_on='To', right_on='FEATURE_NA', how='left')\n",
    "df_combined.drop(df_combined.iloc[:, np.r_[2, 7]], axis=1, inplace=True)\n",
    "df_combined.drop_duplicates(inplace=True) # Remove duplicates generated in the previous join\n",
    "df_combined.reset_index(drop=True, inplace=True)"
   ]
  },
  {
   "cell_type": "code",
   "execution_count": 77,
   "metadata": {},
   "outputs": [],
   "source": [
    "# Calculate centroids\n",
    "df_combined['centroid_from'] = ''\n",
    "df_combined['centroid_to'] = ''\n",
    "for i in range(len(df_combined)):\n",
    "    df_combined.at[i, 'centroid_from'] = df_combined['geometry_x'][i].centroid.coords[0]\n",
    "    df_combined.at[i, 'centroid_to'] = df_combined['geometry_y'][i].centroid.coords[0]\n",
    "    \n",
    "# Calculate euclidean distance\n",
    "df_combined['Distance'] = ''\n",
    "for i in range(len(df_combined)):\n",
    "    df_combined.at[i, 'Distance'] = math.dist(df_combined.at[i, 'centroid_from'], df_combined.at[i, 'centroid_to']) / 1000 # km"
   ]
  },
  {
   "cell_type": "code",
   "execution_count": 78,
   "metadata": {},
   "outputs": [],
   "source": [
    "df_combined.drop(df_combined.iloc[:, np.r_[3, 7, 10:12]], axis=1, inplace=True)"
   ]
  },
  {
   "cell_type": "code",
   "execution_count": 106,
   "metadata": {},
   "outputs": [],
   "source": [
    "# Create copy to avoid running the latter cell, which takes long\n",
    "iteration_df = df_combined.copy()\n",
    "iteration_df.drop(iteration_df.iloc[:, np.r_[2, 5]], axis=1, inplace=True)\n",
    "\n",
    "# Rename columns\n",
    "iteration_df = iteration_df.rename(columns={'Presence_x': 'Presence From', \n",
    "                                            'POPULATION (Z)_x': 'W From', \n",
    "                                            'Presence_y': 'Presence To', \n",
    "                                            'POPULATION (Z)_y': 'W To'})"
   ]
  },
  {
   "cell_type": "code",
   "execution_count": 107,
   "metadata": {},
   "outputs": [],
   "source": [
    "## Calculate probability of transition\n",
    "iteration_df['Force'] = (iteration_df['W From']*iteration_df['W To'])/iteration_df['Distance']\n",
    "\n",
    "# Calculate total force for each from-city\n",
    "force_per_from_city = iteration_df.groupby('From').agg({'Force': 'sum'}).reset_index()\n",
    "force_per_from_city = force_per_from_city.rename(columns={'Force': 'Total force per from-city'})\n",
    "iteration_df = iteration_df.merge(force_per_from_city, on='From', how='left')\n",
    "\n",
    "# Probability of transition\n",
    "iteration_df['Prob_trans'] = 0\n",
    "for i in range(len(iteration_df)):\n",
    "    if iteration_df.at[i, 'Total force per from-city'] != 0:\n",
    "        iteration_df.at[i, 'Prob_trans'] = iteration_df.at[i, 'Force']/iteration_df.at[i, 'Total force per from-city']\n",
    "    else:\n",
    "        iteration_df.at[i, 'Total force per from-city'] = 0"
   ]
  },
  {
   "cell_type": "code",
   "execution_count": 108,
   "metadata": {},
   "outputs": [],
   "source": [
    "# Monte carlo simulation\n",
    "# iteration_df['Prob_trans'] = affected_cities['FEATURE_NA'].astype(str)\n",
    "for i in range (0,100):\n",
    "    # Get draw from flat distribution\n",
    "    transition_draw = np.random.random()\n",
    "    \n",
    "    # Predict affected cities\n",
    "    for index, row in iteration_df.iterrows():\n",
    "        if row[\"Prob_trans\"] > transition_draw:\n",
    "            iteration_df.loc[index, \"Presence To\"] = 1"
   ]
  },
  {
   "cell_type": "code",
   "execution_count": 91,
   "metadata": {},
   "outputs": [],
   "source": [
    "# Calculate risk of invasion for each city\n",
    "risk = iteration_df.groupby('To').agg({'Prob_trans': 'sum'}).reset_index()\n",
    "risk = risk.rename(columns={'Prob_trans': 'Risk'})"
   ]
  },
  {
   "cell_type": "code",
   "execution_count": 116,
   "metadata": {},
   "outputs": [],
   "source": [
    "# Extract potential cities affected into a new data frame\n",
    "predicted = iteration_df[iteration_df[\"Presence To\"] == 1].copy()\n",
    "predicted = predicted.groupby('To').agg({'Presence To': 'min'}).reset_index()"
   ]
  },
  {
   "cell_type": "code",
   "execution_count": 139,
   "metadata": {},
   "outputs": [],
   "source": [
    "# Read city shapefile again and join the prediction and risk\n",
    "cities_gdf = gpd.read_file('cities.shp')\n",
    "cities_gdf.drop(cities_gdf.iloc[:, np.r_[0, 2:9]], axis=1, inplace=True) \n",
    "cities_gdf = cities_gdf.rename(columns={'FEATURE_NA': 'Name'})\n",
    "cities_gdf = cities_gdf.merge(predicted, left_on='Name', right_on='To', how='left')\n",
    "cities_gdf = cities_gdf.merge(risk, left_on='Name', right_on='To', how='left')\n",
    "cities_gdf.drop(cities_gdf.iloc[:, np.r_[2, 4]], axis=1, inplace=True) \n",
    "cities_gdf = cities_gdf.rename(columns={'Presence To': 'Presence'})\n",
    "cities_gdf['Presence'] = cities_gdf['Presence'].fillna(0)"
   ]
  },
  {
   "cell_type": "code",
   "execution_count": 151,
   "metadata": {},
   "outputs": [],
   "source": [
    "# Define the output shapefile schema\n",
    "schema = {\n",
    "    'geometry': 'Polygon',\n",
    "    'properties': {\n",
    "        'Name': 'str',\n",
    "        'Presence': 'int',\n",
    "        'Risk': 'float'\n",
    "    }\n",
    "}\n",
    "\n",
    "# Set the CRS of the GeoDataFrame\n",
    "crs = from_epsg(26915)\n",
    "\n",
    "# Open the output shapefile and write the GeoDataFrame to it\n",
    "with fiona.open('cities_results.shp', 'w', driver='ESRI Shapefile', schema=schema, crs=crs) as output:\n",
    "    for index, row in cities_gdf.iterrows():\n",
    "        output.write({\n",
    "            'geometry': geometry.mapping(row.geometry),\n",
    "            'properties': {\n",
    "                'Name': row['Name'],\n",
    "                'Presence': row['Presence'],\n",
    "                'Risk': row['Risk']\n",
    "            }\n",
    "        })"
   ]
  },
  {
   "cell_type": "code",
   "execution_count": 160,
   "metadata": {},
   "outputs": [
    {
     "data": {
      "text/html": [
       "<div class='gpresult'><h2>Messages</h2><div id='messages' data-messages='[\"Start Time: Wednesday, May 3, 2023 1:51:29 PM\",\"Succeeded at Wednesday, May 3, 2023 1:51:30 PM (Elapsed Time: 1.09 seconds)\"]' data-show='true'><div id = 'default' /></div></div>"
      ],
      "text/plain": [
       "<Result 'E:\\\\ArcGIS_2\\\\Lab4\\\\cities_projected.shp'>"
      ]
     },
     "execution_count": 160,
     "metadata": {},
     "output_type": "execute_result"
    }
   ],
   "source": [
    "# Project to WGS 1984\n",
    "sr = arcpy.SpatialReference(4326)\n",
    "arcpy.Project_management('cities_results', 'cities_projected.shp', sr)"
   ]
  },
  {
   "cell_type": "code",
   "execution_count": 170,
   "metadata": {},
   "outputs": [],
   "source": [
    "# Connect to postgresql database\n",
    "connection = psycopg2.connect(host = '34.27.219.64',\n",
    "                              port = '5432',\n",
    "                              database = 'lab1',\n",
    "                              user = 'postgres',\n",
    "                              password = 'student',\n",
    "                             )"
   ]
  },
  {
   "cell_type": "code",
   "execution_count": 171,
   "metadata": {},
   "outputs": [],
   "source": [
    "data = (\"cities_projected.shp\")\n",
    "fields = [\"Name\", \"Presence\", \"Risk\", \"Shape@WKT\"]\n",
    "\n",
    "# Create SQL table\n",
    "cursor = connection.cursor()\n",
    "cursor.execute(\"DROP TABLE IF EXISTS cities\")\n",
    "cursor.execute(\"\"\"\n",
    "    CREATE TABLE cities (\n",
    "        id SERIAL,\n",
    "        Name VARCHAR,\n",
    "        Presence INTEGER,\n",
    "        Risk DOUBLE PRECISION)\n",
    "\"\"\")\n",
    "\n",
    "cursor.execute(\"\"\"\n",
    "    SELECT AddGeometryColumn('cities', 'geom', 4326, 'MULTIPOLYGON', 2)\n",
    "\"\"\")\n",
    "\n",
    "# Populate PostGIS\n",
    "with arcpy.da.SearchCursor(data, fields) as da_cursor:\n",
    "    for row in da_cursor:\n",
    "        wkt = row[3]\n",
    "        cursor.execute(\"INSERT INTO cities (Name, Presence, Risk, geom) VALUES (%s, %s, %s, ST_GeomFromText(%s, 4326))\", (row[0], row[1], row[2], wkt))\n",
    "\n",
    "connection.commit()\n",
    "connection.close()"
   ]
  }
 ],
 "metadata": {
  "kernelspec": {
   "display_name": "ArcGISPro",
   "language": "Python",
   "name": "python3"
  },
  "language_info": {
   "file_extension": ".py",
   "name": "python",
   "version": "3"
  }
 },
 "nbformat": 4,
 "nbformat_minor": 2
}
