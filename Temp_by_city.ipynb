{
 "cells": [
  {
   "cell_type": "code",
   "execution_count": 1,
   "metadata": {
    "scrolled": true
   },
   "outputs": [],
   "source": [
    "import arcpy\n",
    "import requests\n",
    "import os\n",
    "#import psycopg2\n",
    "import random\n",
    "from pathlib import Path\n",
    "import zipfile\n",
    "import io"
   ]
  },
  {
   "cell_type": "code",
   "execution_count": 2,
   "metadata": {
    "scrolled": true
   },
   "outputs": [],
   "source": [
    "# Set workspace\n",
    "os.chdir(r'C:\\Users\\eriks\\OneDrive\\Documents\\ArcGIS\\Projects\\Lab4_arc2')\n",
    "wksp = os.getcwd()"
   ]
  },
  {
   "cell_type": "markdown",
   "metadata": {},
   "source": [
    "## 1. Data preparation"
   ]
  },
  {
   "cell_type": "code",
   "execution_count": 6,
   "metadata": {},
   "outputs": [
    {
     "ename": "ExecuteError",
     "evalue": "Failed to execute. Parameters are not valid.\nERROR 000837: The workspace is not the correct workspace type.\nFailed to execute (MakeQueryLayer).\n",
     "output_type": "error",
     "traceback": [
      "\u001b[0;31m---------------------------------------------------------------------------\u001b[0m\n\u001b[0;31mExecuteError\u001b[0m                              Traceback (most recent call last)",
      "In  \u001b[0;34m[6]\u001b[0m:\nLine \u001b[0;34m2\u001b[0m:     arcpy.management.MakeQueryLayer(\n",
      "File \u001b[0;34mC:\\Program Files\\ArcGIS\\Pro\\Resources\\ArcPy\\arcpy\\management.py\u001b[0m, in \u001b[0;32mMakeQueryLayer\u001b[0m:\nLine \u001b[0;34m10810\u001b[0m: \u001b[34mraise\u001b[39;49;00m e\n",
      "File \u001b[0;34mC:\\Program Files\\ArcGIS\\Pro\\Resources\\ArcPy\\arcpy\\management.py\u001b[0m, in \u001b[0;32mMakeQueryLayer\u001b[0m:\nLine \u001b[0;34m10807\u001b[0m: retval = convertArcObjectToPythonObject(gp.MakeQueryLayer_management(*gp_fixargs((input_database, out_layer_name, query, oid_fields, shape_type, srid, spatial_reference, spatial_properties, m_values, z_values, extent), \u001b[34mTrue\u001b[39;49;00m)))\n",
      "File \u001b[0;34mC:\\Program Files\\ArcGIS\\Pro\\Resources\\ArcPy\\arcpy\\geoprocessing\\_base.py\u001b[0m, in \u001b[0;32m<lambda>\u001b[0m:\nLine \u001b[0;34m512\u001b[0m:   \u001b[34mreturn\u001b[39;49;00m \u001b[34mlambda\u001b[39;49;00m *args: val(*gp_fixargs(args, \u001b[34mTrue\u001b[39;49;00m))\n",
      "\u001b[0;31mExecuteError\u001b[0m: Failed to execute. Parameters are not valid.\nERROR 000837: The workspace is not the correct workspace type.\nFailed to execute (MakeQueryLayer).\n\n\u001b[0;31m---------------------------------------------------------------------------\u001b[0m"
     ]
    }
   ],
   "source": [
    "# Retrieve temperature data from PostGIS database\n",
    "arcpy.management.MakeQueryLayer(\n",
    "    input_database=os.path.join(wksp, \"34.27.219.64.sde\"),\n",
    "    out_layer_name=\"temp_stations\",\n",
    "    query=\"SELECT id, min_tmpf, geom FROM stations WHERE date = '2023-03'\",\n",
    "    oid_fields=\"id\",\n",
    "    shape_type=\"POINT\",\n",
    "    srid=\"4326\",\n",
    "    spatial_reference='GEOGCS[\"GCS_WGS_1984\",DATUM[\"D_WGS_1984\",SPHEROID[\"WGS_1984\",6378137.0,298.257223563]],PRIMEM[\"Greenwich\",0.0],UNIT[\"Degree\",0.0174532925199433]];-400 -400 1000000000;0 1;0 1;8.98315284119521E-09;2;2;IsHighPrecision',\n",
    "    spatial_properties=\"DO_NOT_DEFINE_SPATIAL_PROPERTIES\",\n",
    "    m_values=\"DO_NOT_INCLUDE_M_VALUES\",\n",
    "    z_values=\"DO_NOT_INCLUDE_Z_VALUES\",\n",
    "    extent='-98.0690216979786 43.2052294998382 -88.6618510633838 49.6779752981444 GEOGCS[\"GCS_WGS_1984\",DATUM[\"D_WGS_1984\",SPHEROID[\"WGS_1984\",6378137.0,298.257223563]],PRIMEM[\"Greenwich\",0.0],UNIT[\"Degree\",0.0174532925199433]]'\n",
    ")"
   ]
  },
  {
   "cell_type": "code",
   "execution_count": 4,
   "metadata": {},
   "outputs": [
    {
     "data": {
      "text/html": [
       "<div class='gpresult'><h2>Messages</h2><div id='messages' data-messages='[\"Start Time: Sunday, April 9, 2023 10:21:51 PM\",\"Succeeded at Sunday, April 9, 2023 10:21:53 PM (Elapsed Time: 1.54 seconds)\"]' data-show='true'><div id = 'default' /></div></div>"
      ],
      "text/plain": [
       "<Result 'E:\\\\ArcGIS_2\\\\Lab3\\\\temp_stations.shp'>"
      ]
     },
     "execution_count": 4,
     "metadata": {},
     "output_type": "execute_result"
    }
   ],
   "source": [
    "# Create a copy of the temperature as a shapefile in the workspace\n",
    "arcpy.management.CopyFeatures(\n",
    "    in_features=\"temp_stations\",\n",
    "    out_feature_class=os.path.join(wksp, \"temp_stations.shp\"),\n",
    "    config_keyword=\"\",\n",
    "    spatial_grid_1=None,\n",
    "    spatial_grid_2=None,\n",
    "    spatial_grid_3=None\n",
    ")"
   ]
  },
  {
   "cell_type": "code",
   "execution_count": 32,
   "metadata": {},
   "outputs": [],
   "source": [
    "# Set the path to input temperature, and output training and validation shapefiles\n",
    "input_shapefile = \"stations.shp\"\n",
    "training_shapefile = os.path.join(wksp, \"training_shapefile.shp\")\n",
    "validation_shapefile = os.path.join(wksp, \"validation_shapefile.shp\")\n",
    "\n",
    "# Set the percentage of features to use for training\n",
    "training_percent = 70\n",
    "\n",
    "# Create a list of ObjectIDs for all features in the input shapefile\n",
    "all_ids = [row[0] for row in arcpy.da.SearchCursor(input_shapefile, [\"OID@\"])]\n",
    "\n",
    "# Calculate the number of features to use for training\n",
    "num_training = int((len(all_ids) * training_percent) / 100)\n",
    "\n",
    "# Randomly select the ObjectIDs for the training features\n",
    "training_ids = random.sample(all_ids, num_training)\n",
    "\n",
    "# Create separate lists of ObjectIDs for the validation and training features\n",
    "validation_ids = [id for id in all_ids if id not in training_ids]"
   ]
  },
  {
   "cell_type": "code",
   "execution_count": 33,
   "metadata": {},
   "outputs": [
    {
     "data": {
      "text/html": [
       "<div class='gpresult'><h2>Messages</h2><div id='messages' data-messages='[\"Start Time: Wednesday, May 3, 2023 11:38:50 AM\",\"Succeeded at Wednesday, May 3, 2023 11:38:51 AM (Elapsed Time: 0.62 seconds)\"]' data-show='true'><div id = 'default' /></div></div>"
      ],
      "text/plain": [
       "<Result 'C:\\\\Users\\\\eriks\\\\OneDrive\\\\Documents\\\\ArcGIS\\\\Projects\\\\Lab4_arc2\\\\validation_shapefile.shp'>"
      ]
     },
     "execution_count": 33,
     "metadata": {},
     "output_type": "execute_result"
    }
   ],
   "source": [
    "# Use the selected ObjectIDs to create new shapefiles for \n",
    "# i) training \n",
    "training = arcpy.management.SelectLayerByAttribute(input_shapefile, \"NEW_SELECTION\", \"FID IN {}\".format(tuple(training_ids)))\n",
    "arcpy.management.CopyFeatures(training, training_shapefile)\n",
    "\n",
    "# ii) validation \n",
    "validation = arcpy.management.SelectLayerByAttribute(input_shapefile, \"NEW_SELECTION\", \"FID IN {}\".format(tuple(validation_ids)))\n",
    "arcpy.management.CopyFeatures(validation, validation_shapefile)"
   ]
  },
  {
   "cell_type": "markdown",
   "metadata": {},
   "source": [
    "## 2. Interpolation"
   ]
  },
  {
   "cell_type": "code",
   "execution_count": 34,
   "metadata": {},
   "outputs": [
    {
     "ename": "ExecuteError",
     "evalue": "Failed to execute. Parameters are not valid.\nERROR 000732: Input features: Dataset training_shapefile.shp does not exist or is not supported\nFailed to execute (GlobalPolynomialInterpolation).\n",
     "output_type": "error",
     "traceback": [
      "\u001b[0;31m---------------------------------------------------------------------------\u001b[0m\n\u001b[0;31mExecuteError\u001b[0m                              Traceback (most recent call last)",
      "In  \u001b[0;34m[34]\u001b[0m:\nLine \u001b[0;34m23\u001b[0m:    arcpy.ga.GlobalPolynomialInterpolation(\n",
      "File \u001b[0;34mC:\\Program Files\\ArcGIS\\Pro\\Resources\\ArcPy\\arcpy\\ga.py\u001b[0m, in \u001b[0;32mGlobalPolynomialInterpolation\u001b[0m:\nLine \u001b[0;34m817\u001b[0m:   \u001b[34mraise\u001b[39;49;00m e\n",
      "File \u001b[0;34mC:\\Program Files\\ArcGIS\\Pro\\Resources\\ArcPy\\arcpy\\ga.py\u001b[0m, in \u001b[0;32mGlobalPolynomialInterpolation\u001b[0m:\nLine \u001b[0;34m814\u001b[0m:   retval = convertArcObjectToPythonObject(gp.GlobalPolynomialInterpolation_ga(*gp_fixargs((in_features, z_field, out_ga_layer, out_raster, cell_size, power, weight_field), \u001b[34mTrue\u001b[39;49;00m)))\n",
      "File \u001b[0;34mC:\\Program Files\\ArcGIS\\Pro\\Resources\\ArcPy\\arcpy\\geoprocessing\\_base.py\u001b[0m, in \u001b[0;32m<lambda>\u001b[0m:\nLine \u001b[0;34m512\u001b[0m:   \u001b[34mreturn\u001b[39;49;00m \u001b[34mlambda\u001b[39;49;00m *args: val(*gp_fixargs(args, \u001b[34mTrue\u001b[39;49;00m))\n",
      "\u001b[0;31mExecuteError\u001b[0m: Failed to execute. Parameters are not valid.\nERROR 000732: Input features: Dataset training_shapefile.shp does not exist or is not supported\nFailed to execute (GlobalPolynomialInterpolation).\n\n\u001b[0;31m---------------------------------------------------------------------------\u001b[0m"
     ]
    }
   ],
   "source": [
    "# Interpolate the temperature using 3 methods: IDW, Kriging, and GPI\n",
    "\n",
    "arcpy.ddd.Idw(\n",
    "    in_point_features=\"training_shapefile.shp\",\n",
    "    z_field=\"min_tmpf\",\n",
    "    out_raster=os.path.join(wksp, \"IDW.tif\"),\n",
    "    cell_size=0.1,\n",
    "    power=2,\n",
    "    search_radius=\"VARIABLE 12\",\n",
    "    in_barrier_polyline_features=None\n",
    ")\n",
    "\n",
    "arcpy.ddd.Kriging(\n",
    "    in_point_features=\"training_shapefile.shp\",\n",
    "    z_field=\"min_tmpf\",\n",
    "    out_surface_raster=os.path.join(wksp, \"Kriging.tif\"),\n",
    "    semiVariogram_props=\"Spherical 0.021245 # # #\",\n",
    "    cell_size=0.1,\n",
    "    search_radius=\"VARIABLE 12\",\n",
    "    out_variance_prediction_raster=None\n",
    ")\n",
    "\n",
    "arcpy.ga.GlobalPolynomialInterpolation(\n",
    "    in_features=\"training_shapefile.shp\",\n",
    "    z_field=\"min_tmpf\",\n",
    "    out_ga_layer=None,\n",
    "    out_raster=os.path.join(wksp, \"GPI.tif\"),\n",
    "    cell_size=0.1,\n",
    "    power=1,\n",
    "    weight_field=None\n",
    ")"
   ]
  },
  {
   "cell_type": "code",
   "execution_count": 20,
   "metadata": {},
   "outputs": [
    {
     "data": {
      "text/html": [
       "<div class='gpresult'><h2>Messages</h2><div id='messages' data-messages='[\"Start Time: Wednesday, May 3, 2023 3:41:51 PM\",\"SPHERICAL\\nLag size\\t\\t= 0.021245\\nPartial sill\\t= 27.539336\\nNugget\\t\\t= 16.243517\\nMajor range\\t= 7.988120\",\"Succeeded at Wednesday, May 3, 2023 3:41:53 PM (Elapsed Time: 2.49 seconds)\"]' data-show='true'><div id = 'default' /></div></div>"
      ],
      "text/plain": [
       "<Result 'C:\\\\Users\\\\eriks\\\\OneDrive\\\\Documents\\\\ArcGIS\\\\Projects\\\\Lab4_arc2\\\\Kriging_max.tif'>"
      ]
     },
     "execution_count": 20,
     "metadata": {},
     "output_type": "execute_result"
    }
   ],
   "source": [
    "arcpy.ddd.Kriging(\n",
    "    in_point_features=\"training_shapefile.shp\",\n",
    "    z_field=\"max_tmpf\",\n",
    "    out_surface_raster=os.path.join(wksp, \"Kriging_max.tif\"),\n",
    "    semiVariogram_props=\"Spherical 0.021245 # # #\",\n",
    "    cell_size=0.1,\n",
    "    search_radius=\"VARIABLE 12\",\n",
    "    out_variance_prediction_raster=None\n",
    ")"
   ]
  },
  {
   "cell_type": "markdown",
   "metadata": {},
   "source": [
    "### Append Interpolated Temperature Values to City Data"
   ]
  },
  {
   "cell_type": "code",
   "execution_count": 3,
   "metadata": {},
   "outputs": [],
   "source": [
    "# Retrieve MN territories Data\n",
    "territories_output = requests.post(r'https://resources.gisdata.mn.gov/pub/gdrs/data/pub/us_mn_state_dot/bdry_mn_city_township_unorg/shp_bdry_mn_city_township_unorg.zip')\n",
    "zipfile.ZipFile(io.BytesIO(territories_output.content)).extractall(wksp)"
   ]
  },
  {
   "cell_type": "code",
   "execution_count": 4,
   "metadata": {
    "scrolled": false
   },
   "outputs": [
    {
     "data": {
      "text/html": [
       "<div class='gpresult'><h2>Messages</h2><div id='messages' data-messages='[\"Start Time: Wednesday, May 3, 2023 3:46:51 PM\",\"Succeeded at Wednesday, May 3, 2023 3:46:52 PM (Elapsed Time: 0.99 seconds)\"]' data-show='true'><div id = 'default' /></div></div>"
      ],
      "text/plain": [
       "<Result 'C:\\\\Users\\\\eriks\\\\OneDrive\\\\Documents\\\\ArcGIS\\\\Projects\\\\Arc2_Lab2\\\\cities.shp'>"
      ]
     },
     "execution_count": 4,
     "metadata": {},
     "output_type": "execute_result"
    }
   ],
   "source": [
    "# Extract only the cities\n",
    "arcpy.analysis.Select(\n",
    "    in_features=\"city_township_unorg.shp\",\n",
    "    out_feature_class=\"cities.shp\",\n",
    "    where_clause=\"CTU_CLASS = 'CITY'\"\n",
    ")"
   ]
  },
  {
   "cell_type": "code",
   "execution_count": 5,
   "metadata": {},
   "outputs": [],
   "source": [
    "# Set the input and output files\n",
    "polygon_fc = \"cities.shp\"\n",
    "centroid_fc = \"centroids\"\n",
    "field_name = \"min_temp\"\n",
    "\n",
    "# Check if the output feature class already exists, and if so, delete it\n",
    "if arcpy.Exists(centroid_fc):\n",
    "    arcpy.Delete_management(centroid_fc)\n",
    "\n",
    "# Create the output feature class and add the shape field\n",
    "arcpy.CreateFeatureclass_management(arcpy.env.workspace, centroid_fc, \"POINT\", spatial_reference=4326)\n",
    "\n",
    "# Add all fields from the input polygon feature class to the output feature class\n",
    "field_info = arcpy.ListFields(polygon_fc)\n",
    "field_names = [field.name for field in field_info if not field.required]\n",
    "for field in field_info:\n",
    "    if not field.required:\n",
    "        arcpy.AddField_management(centroid_fc, field.name, field.type, field.precision, field.scale, field.length, field.aliasName)\n",
    "\n",
    "# Loop through the polygon features and calculate the centroids\n",
    "with arcpy.da.SearchCursor(polygon_fc, [\"SHAPE@\", *field_names]) as in_cursor:\n",
    "    with arcpy.da.InsertCursor(centroid_fc, [\"SHAPE@\", *field_names]) as out_cursor:\n",
    "        for row in in_cursor:\n",
    "            polygon = row[0]\n",
    "            centroid = polygon.centroid\n",
    "            out_cursor.insertRow((centroid,) + row[1:])"
   ]
  },
  {
   "cell_type": "code",
   "execution_count": 8,
   "metadata": {},
   "outputs": [
    {
     "data": {
      "text/html": [
       "<div class='gpresult'><h2>Messages</h2><div id='messages' data-messages='[\"Start Time: Wednesday, May 3, 2023 3:47:55 PM\",\"WARNING 010559: The input feature class does not have a spatial index.\",\"Succeeded at Wednesday, May 3, 2023 3:47:56 PM (Elapsed Time: 0.84 seconds)\"]' data-show='true'><div id = 'default' /></div></div>"
      ],
      "text/plain": [
       "<geoprocessing server result object object at 0x00000297E75B7990>"
      ]
     },
     "execution_count": 8,
     "metadata": {},
     "output_type": "execute_result"
    }
   ],
   "source": [
    "arcpy.sa.ExtractValuesToPoints(\n",
    "    in_point_features=\"centroids.shp\",\n",
    "    in_raster=\"Kriging.tif\",\n",
    "    out_point_features=r\"City_Min\",\n",
    "    interpolate_values=\"NONE\",\n",
    "    add_attributes=\"VALUE_ONLY\"\n",
    ")"
   ]
  },
  {
   "cell_type": "code",
   "execution_count": 10,
   "metadata": {},
   "outputs": [],
   "source": [
    "# set input feature class and old field name\n",
    "input_fc = \"City_Min\"\n",
    "old_field_name = \"RASTERVALU\"\n",
    "\n",
    "# set output field name\n",
    "new_field_name = \"Min_Temp\"\n",
    "\n",
    "# check if new field name already exists\n",
    "if new_field_name not in [f.name for f in arcpy.ListFields(input_fc)]:\n",
    "    # add new field with same properties as old field\n",
    "    field_obj = [f for f in arcpy.ListFields(input_fc) if f.name == old_field_name][0]\n",
    "    arcpy.AddField_management(input_fc, new_field_name, field_obj.type, field_obj.precision, field_obj.scale, field_obj.length)\n",
    "\n",
    "    # populate new field with values from old field\n",
    "    with arcpy.da.UpdateCursor(input_fc, [old_field_name, new_field_name]) as cursor:\n",
    "        for row in cursor:\n",
    "            row[1] = row[0]\n",
    "            cursor.updateRow(row)\n",
    "\n",
    "    # delete old field\n",
    "    arcpy.DeleteField_management(input_fc, old_field_name)\n",
    "\n",
    "else:\n",
    "    print(\"New field name already exists!\")\n"
   ]
  },
  {
   "cell_type": "code",
   "execution_count": 11,
   "metadata": {},
   "outputs": [
    {
     "data": {
      "text/html": [
       "<div class='gpresult'><h2>Messages</h2><div id='messages' data-messages='[\"Start Time: Wednesday, May 3, 2023 3:57:05 PM\",\"Succeeded at Wednesday, May 3, 2023 3:57:05 PM (Elapsed Time: 0.44 seconds)\"]' data-show='true'><div id = 'default' /></div></div>"
      ],
      "text/plain": [
       "<geoprocessing server result object object at 0x00000297F4358630>"
      ]
     },
     "execution_count": 11,
     "metadata": {},
     "output_type": "execute_result"
    }
   ],
   "source": [
    "arcpy.sa.ExtractValuesToPoints(\n",
    "    in_point_features=\"City_Min.shp\",\n",
    "    in_raster=\"Kriging_max.tif\",\n",
    "    out_point_features=r\"City_Temp\",\n",
    "    interpolate_values=\"NONE\",\n",
    "    add_attributes=\"VALUE_ONLY\"\n",
    ")"
   ]
  },
  {
   "cell_type": "code",
   "execution_count": 12,
   "metadata": {},
   "outputs": [],
   "source": [
    "# set input feature class and old field name\n",
    "input_fc = \"City_Temp\"\n",
    "old_field_name = \"RASTERVALU\"\n",
    "\n",
    "# set output field name\n",
    "new_field_name = \"Max_Temp\"\n",
    "\n",
    "# check if new field name already exists\n",
    "if new_field_name not in [f.name for f in arcpy.ListFields(input_fc)]:\n",
    "    # add new field with same properties as old field\n",
    "    field_obj = [f for f in arcpy.ListFields(input_fc) if f.name == old_field_name][0]\n",
    "    arcpy.AddField_management(input_fc, new_field_name, field_obj.type, field_obj.precision, field_obj.scale, field_obj.length)\n",
    "\n",
    "    # populate new field with values from old field\n",
    "    with arcpy.da.UpdateCursor(input_fc, [old_field_name, new_field_name]) as cursor:\n",
    "        for row in cursor:\n",
    "            row[1] = row[0]\n",
    "            cursor.updateRow(row)\n",
    "\n",
    "    # delete old field\n",
    "    arcpy.DeleteField_management(input_fc, old_field_name)\n",
    "\n",
    "else:\n",
    "    print(\"New field name already exists!\")"
   ]
  },
  {
   "cell_type": "code",
   "execution_count": null,
   "metadata": {},
   "outputs": [],
   "source": []
  }
 ],
 "metadata": {
  "kernelspec": {
   "display_name": "ArcGISPro",
   "language": "Python",
   "name": "python3"
  },
  "language_info": {
   "file_extension": ".py",
   "name": "python",
   "version": "3"
  }
 },
 "nbformat": 4,
 "nbformat_minor": 2
}
